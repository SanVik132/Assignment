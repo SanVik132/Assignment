{
 "cells": [
  {
   "cell_type": "code",
   "execution_count": 1,
   "metadata": {},
   "outputs": [
    {
     "name": "stdout",
     "output_type": "stream",
     "text": [
      "a= 6\n",
      "b= 5\n"
     ]
    }
   ],
   "source": [
    "#. Write a program to swap two variables. Example: x = 3, y = 5 ==> y = 3 , x = 5.\n",
    "a=5\n",
    "b=6\n",
    "a,b=b,a\n",
    "print('a=',a)\n",
    "print('b=',b)"
   ]
  },
  {
   "cell_type": "code",
   "execution_count": 3,
   "metadata": {},
   "outputs": [
    {
     "name": "stdout",
     "output_type": "stream",
     "text": [
      "Enter value of a\n",
      "5\n",
      "No is odd\n"
     ]
    }
   ],
   "source": [
    "#program to check weather a no is even or odd\n",
    "print('Enter value of a')\n",
    "a=int (input())\n",
    "b=a%2\n",
    "if(b==0):\n",
    "    print('No is even')\n",
    "else:\n",
    "    print('No is odd')"
   ]
  },
  {
   "cell_type": "code",
   "execution_count": 4,
   "metadata": {},
   "outputs": [
    {
     "name": "stdout",
     "output_type": "stream",
     "text": [
      "Enter the value of a25\n",
      "under root  is 5.0\n"
     ]
    }
   ],
   "source": [
    "#program to find the square root\n",
    "import math\n",
    "a= float(input('Enter the value of a'))\n",
    "print(\"under root  is\",  math.sqrt(a))"
   ]
  },
  {
   "cell_type": "code",
   "execution_count": 5,
   "metadata": {},
   "outputs": [
    {
     "name": "stdout",
     "output_type": "stream",
     "text": [
      "a:25\n",
      "5.0\n"
     ]
    }
   ],
   "source": [
    "#program to find the square root\n",
    "a=int(input('a:'))\n",
    "sr= a**(1/2)\n",
    "print(sr)"
   ]
  },
  {
   "cell_type": "code",
   "execution_count": 6,
   "metadata": {},
   "outputs": [
    {
     "name": "stdout",
     "output_type": "stream",
     "text": [
      "value of n10\n",
      "Natural numbers are\n",
      "1\n",
      "2\n",
      "3\n",
      "4\n",
      "5\n",
      "6\n",
      "7\n",
      "8\n",
      "9\n",
      "10\n",
      "reverse is:\n",
      "10\n",
      "9\n",
      "8\n",
      "7\n",
      "6\n",
      "5\n",
      "4\n",
      "3\n",
      "2\n",
      "1\n"
     ]
    }
   ],
   "source": [
    "#program to print natural no\n",
    "n=int(input('value of n' ))\n",
    "a=1\n",
    "print('Natural numbers are')\n",
    "while(a<=n):\n",
    "    print(a)\n",
    "    a+=1\n",
    "print('reverse is:')\n",
    "a=a-1\n",
    "while(a>0):\n",
    "    print(a)\n",
    "    a-=1"
   ]
  },
  {
   "cell_type": "code",
   "execution_count": 7,
   "metadata": {},
   "outputs": [
    {
     "name": "stdout",
     "output_type": "stream",
     "text": [
      "Enter the value of r2\n",
      "volume of sphere is 33.49333333333333\n"
     ]
    }
   ],
   "source": [
    "#volume of sphere\n",
    "r=int(input('Enter the value of r'))\n",
    "z=4*3.14*r**3/3\n",
    "print('volume of sphere is',z)"
   ]
  },
  {
   "cell_type": "code",
   "execution_count": 8,
   "metadata": {},
   "outputs": [
    {
     "name": "stdout",
     "output_type": "stream",
     "text": [
      "Even Numbers are:\n",
      "2\n",
      "4\n",
      "6\n",
      "8\n",
      "10\n",
      "12\n",
      "14\n",
      "16\n",
      "18\n",
      "20\n",
      "22\n",
      "24\n",
      "26\n",
      "28\n",
      "30\n",
      "32\n",
      "34\n",
      "36\n",
      "38\n",
      "40\n",
      "42\n",
      "44\n",
      "46\n",
      "48\n",
      "50\n",
      "52\n",
      "54\n",
      "56\n",
      "58\n",
      "60\n",
      "62\n",
      "64\n",
      "66\n",
      "68\n",
      "70\n",
      "72\n",
      "74\n",
      "76\n",
      "78\n",
      "80\n",
      "82\n",
      "84\n",
      "86\n",
      "88\n",
      "90\n",
      "92\n",
      "94\n",
      "96\n",
      "98\n",
      "100\n",
      "odd numbers are:\n",
      "1\n",
      "3\n",
      "5\n",
      "7\n",
      "9\n",
      "11\n",
      "13\n",
      "15\n",
      "17\n",
      "19\n",
      "21\n",
      "23\n",
      "25\n",
      "27\n",
      "29\n",
      "31\n",
      "33\n",
      "35\n",
      "37\n",
      "39\n",
      "41\n",
      "43\n",
      "45\n",
      "47\n",
      "49\n",
      "51\n",
      "53\n",
      "55\n",
      "57\n",
      "59\n",
      "61\n",
      "63\n",
      "65\n",
      "67\n",
      "69\n",
      "71\n",
      "73\n",
      "75\n",
      "77\n",
      "79\n",
      "81\n",
      "83\n",
      "85\n",
      "87\n",
      "89\n",
      "91\n",
      "93\n",
      "95\n",
      "97\n",
      "99\n"
     ]
    }
   ],
   "source": [
    "#Print all odd numbers and even numbers between 1 to 100\n",
    "i=1\n",
    "print('Even Numbers are:')\n",
    "while i<=100:\n",
    "    if i%2==0:\n",
    "        print(i)\n",
    "    i=i+1\n",
    "j=1\n",
    "print('odd numbers are:')\n",
    "while j<=100:\n",
    "    if j%2!=0:\n",
    "        print(j)\n",
    "    j=j+1"
   ]
  },
  {
   "cell_type": "code",
   "execution_count": 9,
   "metadata": {},
   "outputs": [
    {
     "name": "stdout",
     "output_type": "stream",
     "text": [
      "enter a 2\n",
      "enter b 6\n",
      "enter c 4\n",
      "roots are real and are  -4.0 -8.0\n"
     ]
    }
   ],
   "source": [
    "#Write a program to compute roots of a quadratic equation when coefficients a, b\n",
    "#and c are known (entered by the user).\n",
    "a=int(input(\"enter a \"))\n",
    "b=int(input(\"enter b \"))\n",
    "c=int(input(\"enter c \"))\n",
    "import math\n",
    "d=b*b-4*a*c\n",
    "if d>0:\n",
    "    m=(-b+math.sqrt(d))/2*a\n",
    "    n=(-b-math.sqrt(d))/2*a\n",
    "    print(\"roots are real and are \",m,n)\n",
    "elif d==0:\n",
    "    m=-b/2*a\n",
    "    print(\"roots are real and equal and are \",m ,m)\n",
    "else:\n",
    "    print(\"roots are imaginary\")"
   ]
  },
  {
   "cell_type": "code",
   "execution_count": 11,
   "metadata": {},
   "outputs": [
    {
     "name": "stdout",
     "output_type": "stream",
     "text": [
      "enter a: 2565\n",
      "4\n"
     ]
    }
   ],
   "source": [
    "#Count the number of digits in a number. Example: 5342 has 4 digits\n",
    "a=int(input(\"enter a: \"))\n",
    "count=0\n",
    "while(a!=0):\n",
    "    a=a//10\n",
    "    count=count+1\n",
    "print(count)"
   ]
  },
  {
   "cell_type": "code",
   "execution_count": 16,
   "metadata": {},
   "outputs": [
    {
     "name": "stdout",
     "output_type": "stream",
     "text": [
      "Enter a:8\n",
      "False\n"
     ]
    }
   ],
   "source": [
    "#Write a program to check if a number is prime or not. Example: 7 ==> True, 6\n",
    "#==> False\n",
    "a=int(input('Enter a:'))\n",
    "count=0\n",
    "for i in range(2,a+1//2):\n",
    "    if(a%i==0):\n",
    "        count=count+1\n",
    "if(count==0):print('True')\n",
    "else:print('False')"
   ]
  },
  {
   "cell_type": "code",
   "execution_count": 18,
   "metadata": {},
   "outputs": [
    {
     "name": "stdout",
     "output_type": "stream",
     "text": [
      "Enter n17\n",
      "3\n",
      "5\n",
      "6\n",
      "9\n",
      "10\n",
      "12\n",
      "15\n",
      "Sum is:  60\n"
     ]
    }
   ],
   "source": [
    "#Write a program that asks the user for a number n and prints the sum of the\n",
    "#numbers 1 to n such that only multiples of three or five are considered in the sum,\n",
    "#e.g. 3, 5, 6, 9, 10, 12, 15 for n=17.\n",
    "sum=0\n",
    "n=int(input('Enter n'))\n",
    "for i in range(1,n):\n",
    "    if (i%3==0) or (i%5==0):\n",
    "        print(i)\n",
    "        sum=sum+i\n",
    "print('Sum is: ',sum)"
   ]
  },
  {
   "cell_type": "code",
   "execution_count": 22,
   "metadata": {},
   "outputs": [
    {
     "name": "stdout",
     "output_type": "stream",
     "text": [
      "Enter the value of n10\n",
      "Enter your choice \n",
      " 1: if choice is sum \n",
      " 2:if choice is product\n",
      "1\n",
      "55\n"
     ]
    }
   ],
   "source": [
    "#Write a program that asks the user for a number n and gives them the possibility\n",
    "#to choose between computing the sum and computing the product of 1,…,n.\n",
    "n=int(input('Enter the value of n'))\n",
    "i=input('Enter your choice \\n 1: if choice is sum \\n 2:if choice is product\\n')\n",
    "sum=0\n",
    "product=1\n",
    "if(i=='1'):\n",
    "    for a in range(n+1):\n",
    "        sum=sum+a\n",
    "    print(sum)\n",
    "else:\n",
    "    for a in range(1,n+1):\n",
    "        product=product*a\n",
    "    print(product)\n"
   ]
  },
  {
   "cell_type": "code",
   "execution_count": 24,
   "metadata": {},
   "outputs": [
    {
     "name": "stdout",
     "output_type": "stream",
     "text": [
      "3\n",
      "5\n",
      "6\n",
      "9\n",
      "10\n",
      "12\n",
      "15\n",
      "18\n",
      "20\n",
      "21\n",
      "24\n",
      "25\n",
      "27\n",
      "30\n",
      "33\n",
      "35\n",
      "36\n",
      "39\n",
      "40\n",
      "42\n",
      "45\n",
      "48\n",
      "50\n",
      "51\n",
      "54\n",
      "55\n",
      "57\n",
      "60\n",
      "63\n",
      "65\n",
      "66\n",
      "69\n",
      "70\n",
      "72\n",
      "75\n",
      "78\n",
      "80\n",
      "81\n",
      "84\n",
      "85\n",
      "87\n",
      "90\n",
      "93\n",
      "95\n",
      "96\n",
      "99\n",
      "100\n",
      "102\n",
      "105\n",
      "108\n",
      "110\n",
      "111\n",
      "114\n",
      "115\n",
      "117\n",
      "120\n",
      "123\n",
      "125\n",
      "126\n",
      "129\n",
      "130\n",
      "132\n",
      "135\n",
      "138\n",
      "140\n",
      "141\n",
      "144\n",
      "145\n",
      "147\n",
      "150\n",
      "153\n",
      "155\n",
      "156\n",
      "159\n",
      "160\n",
      "162\n",
      "165\n",
      "168\n",
      "170\n",
      "171\n",
      "174\n",
      "175\n",
      "177\n",
      "180\n",
      "183\n",
      "185\n",
      "186\n",
      "189\n",
      "190\n",
      "192\n",
      "195\n",
      "198\n",
      "200\n",
      "201\n",
      "204\n",
      "205\n",
      "207\n",
      "210\n",
      "213\n",
      "215\n",
      "216\n",
      "219\n",
      "220\n",
      "222\n",
      "225\n",
      "228\n",
      "230\n",
      "231\n",
      "234\n",
      "235\n",
      "237\n",
      "240\n",
      "243\n",
      "245\n",
      "246\n",
      "249\n",
      "250\n",
      "252\n",
      "255\n",
      "258\n",
      "260\n",
      "261\n",
      "264\n",
      "265\n",
      "267\n",
      "270\n",
      "273\n",
      "275\n",
      "276\n",
      "279\n",
      "280\n",
      "282\n",
      "285\n",
      "288\n",
      "290\n",
      "291\n",
      "294\n",
      "295\n",
      "297\n",
      "300\n",
      "303\n",
      "305\n",
      "306\n",
      "309\n",
      "310\n",
      "312\n",
      "315\n",
      "318\n",
      "320\n",
      "321\n",
      "324\n",
      "325\n",
      "327\n",
      "330\n",
      "333\n",
      "335\n",
      "336\n",
      "339\n",
      "340\n",
      "342\n",
      "345\n",
      "348\n",
      "350\n",
      "351\n",
      "354\n",
      "355\n",
      "357\n",
      "360\n",
      "363\n",
      "365\n",
      "366\n",
      "369\n",
      "370\n",
      "372\n",
      "375\n",
      "378\n",
      "380\n",
      "381\n",
      "384\n",
      "385\n",
      "387\n",
      "390\n",
      "393\n",
      "395\n",
      "396\n",
      "399\n",
      "400\n",
      "402\n",
      "405\n",
      "408\n",
      "410\n",
      "411\n",
      "414\n",
      "415\n",
      "417\n",
      "420\n",
      "423\n",
      "425\n",
      "426\n",
      "429\n",
      "430\n",
      "432\n",
      "435\n",
      "438\n",
      "440\n",
      "441\n",
      "444\n",
      "445\n",
      "447\n",
      "450\n",
      "453\n",
      "455\n",
      "456\n",
      "459\n",
      "460\n",
      "462\n",
      "465\n",
      "468\n",
      "470\n",
      "471\n",
      "474\n",
      "475\n",
      "477\n",
      "480\n",
      "483\n",
      "485\n",
      "486\n",
      "489\n",
      "490\n",
      "492\n",
      "495\n",
      "498\n",
      "500\n",
      "501\n",
      "504\n",
      "505\n",
      "507\n",
      "510\n",
      "513\n",
      "515\n",
      "516\n",
      "519\n",
      "520\n",
      "522\n",
      "525\n",
      "528\n",
      "530\n",
      "531\n",
      "534\n",
      "535\n",
      "537\n",
      "540\n",
      "543\n",
      "545\n",
      "546\n",
      "549\n",
      "550\n",
      "552\n",
      "555\n",
      "558\n",
      "560\n",
      "561\n",
      "564\n",
      "565\n",
      "567\n",
      "570\n",
      "573\n",
      "575\n",
      "576\n",
      "579\n",
      "580\n",
      "582\n",
      "585\n",
      "588\n",
      "590\n",
      "591\n",
      "594\n",
      "595\n",
      "597\n",
      "600\n",
      "603\n",
      "605\n",
      "606\n",
      "609\n",
      "610\n",
      "612\n",
      "615\n",
      "618\n",
      "620\n",
      "621\n",
      "624\n",
      "625\n",
      "627\n",
      "630\n",
      "633\n",
      "635\n",
      "636\n",
      "639\n",
      "640\n",
      "642\n",
      "645\n",
      "648\n",
      "650\n",
      "651\n",
      "654\n",
      "655\n",
      "657\n",
      "660\n",
      "663\n",
      "665\n",
      "666\n",
      "669\n",
      "670\n",
      "672\n",
      "675\n",
      "678\n",
      "680\n",
      "681\n",
      "684\n",
      "685\n",
      "687\n",
      "690\n",
      "693\n",
      "695\n",
      "696\n",
      "699\n",
      "700\n",
      "702\n",
      "705\n",
      "708\n",
      "710\n",
      "711\n",
      "714\n",
      "715\n",
      "717\n",
      "720\n",
      "723\n",
      "725\n",
      "726\n",
      "729\n",
      "730\n",
      "732\n",
      "735\n",
      "738\n",
      "740\n",
      "741\n",
      "744\n",
      "745\n",
      "747\n",
      "750\n",
      "753\n",
      "755\n",
      "756\n",
      "759\n",
      "760\n",
      "762\n",
      "765\n",
      "768\n",
      "770\n",
      "771\n",
      "774\n",
      "775\n",
      "777\n",
      "780\n",
      "783\n",
      "785\n",
      "786\n",
      "789\n",
      "790\n",
      "792\n",
      "795\n",
      "798\n",
      "800\n",
      "801\n",
      "804\n",
      "805\n",
      "807\n",
      "810\n",
      "813\n",
      "815\n",
      "816\n",
      "819\n",
      "820\n",
      "822\n",
      "825\n",
      "828\n",
      "830\n",
      "831\n",
      "834\n",
      "835\n",
      "837\n",
      "840\n",
      "843\n",
      "845\n",
      "846\n",
      "849\n",
      "850\n",
      "852\n",
      "855\n",
      "858\n",
      "860\n",
      "861\n",
      "864\n",
      "865\n",
      "867\n",
      "870\n",
      "873\n",
      "875\n",
      "876\n",
      "879\n",
      "880\n",
      "882\n",
      "885\n",
      "888\n",
      "890\n",
      "891\n",
      "894\n",
      "895\n",
      "897\n",
      "900\n",
      "903\n",
      "905\n",
      "906\n",
      "909\n",
      "910\n",
      "912\n",
      "915\n",
      "918\n",
      "920\n",
      "921\n",
      "924\n",
      "925\n",
      "927\n",
      "930\n",
      "933\n",
      "935\n",
      "936\n",
      "939\n",
      "940\n",
      "942\n",
      "945\n",
      "948\n",
      "950\n",
      "951\n",
      "954\n",
      "955\n",
      "957\n",
      "960\n",
      "963\n",
      "965\n",
      "966\n",
      "969\n",
      "970\n",
      "972\n",
      "975\n",
      "978\n",
      "980\n",
      "981\n",
      "984\n",
      "985\n",
      "987\n",
      "990\n",
      "993\n",
      "995\n",
      "996\n",
      "999\n",
      "233168\n"
     ]
    }
   ],
   "source": [
    "#Find the sum of all the multiples of 3 or 5 below 1000.\n",
    "sum=0\n",
    "n=1000\n",
    "for i in range(1,n):\n",
    "    if (i%3==0) or (i%5==0):\n",
    "        print(i)\n",
    "        sum=sum+i\n",
    "print(sum)"
   ]
  },
  {
   "cell_type": "code",
   "execution_count": 25,
   "metadata": {},
   "outputs": [
    {
     "name": "stdout",
     "output_type": "stream",
     "text": [
      "2002\n",
      "2009\n",
      "2016\n",
      "2023\n",
      "2037\n",
      "2044\n",
      "2051\n",
      "2058\n",
      "2072\n",
      "2079\n",
      "2086\n",
      "2093\n",
      "2107\n",
      "2114\n",
      "2121\n",
      "2128\n",
      "2142\n",
      "2149\n",
      "2156\n",
      "2163\n",
      "2177\n",
      "2184\n",
      "2191\n",
      "2198\n",
      "2212\n",
      "2219\n",
      "2226\n",
      "2233\n",
      "2247\n",
      "2254\n",
      "2261\n",
      "2268\n",
      "2282\n",
      "2289\n",
      "2296\n",
      "2303\n",
      "2317\n",
      "2324\n",
      "2331\n",
      "2338\n",
      "2352\n",
      "2359\n",
      "2366\n",
      "2373\n",
      "2387\n",
      "2394\n",
      "2401\n",
      "2408\n",
      "2422\n",
      "2429\n",
      "2436\n",
      "2443\n",
      "2457\n",
      "2464\n",
      "2471\n",
      "2478\n",
      "2492\n",
      "2499\n",
      "2506\n",
      "2513\n",
      "2527\n",
      "2534\n",
      "2541\n",
      "2548\n",
      "2562\n",
      "2569\n",
      "2576\n",
      "2583\n",
      "2597\n",
      "2604\n",
      "2611\n",
      "2618\n",
      "2632\n",
      "2639\n",
      "2646\n",
      "2653\n",
      "2667\n",
      "2674\n",
      "2681\n",
      "2688\n",
      "2702\n",
      "2709\n",
      "2716\n",
      "2723\n",
      "2737\n",
      "2744\n",
      "2751\n",
      "2758\n",
      "2772\n",
      "2779\n",
      "2786\n",
      "2793\n",
      "2807\n",
      "2814\n",
      "2821\n",
      "2828\n",
      "2842\n",
      "2849\n",
      "2856\n",
      "2863\n",
      "2877\n",
      "2884\n",
      "2891\n",
      "2898\n",
      "2912\n",
      "2919\n",
      "2926\n",
      "2933\n",
      "2947\n",
      "2954\n",
      "2961\n",
      "2968\n",
      "2982\n",
      "2989\n",
      "2996\n",
      "3003\n",
      "3017\n",
      "3024\n",
      "3031\n",
      "3038\n",
      "3052\n",
      "3059\n",
      "3066\n",
      "3073\n",
      "3087\n",
      "3094\n",
      "3101\n",
      "3108\n",
      "3122\n",
      "3129\n",
      "3136\n",
      "3143\n",
      "3157\n",
      "3164\n",
      "3171\n",
      "3178\n",
      "3192\n",
      "3199\n"
     ]
    }
   ],
   "source": [
    "#Write a program which will find all such numbers which are divisible by 7 but are\n",
    "#not a multiple of 5, between 2000 and 3200 (both included).\n",
    "i=2000\n",
    "n=3200\n",
    "for i in range(i,n):\n",
    "    if (i%7==0 and i%5!=0):print(i)"
   ]
  },
  {
   "cell_type": "code",
   "execution_count": 27,
   "metadata": {},
   "outputs": [
    {
     "name": "stdout",
     "output_type": "stream",
     "text": [
      "24502500\n",
      "328350\n",
      "-24174150\n"
     ]
    }
   ],
   "source": [
    "#Find the difference between the sum of the squares of the first one hundred\n",
    "#natural numbers and the square of the sum.\n",
    "sosq=0\n",
    "sum=0\n",
    "for i in range(100):\n",
    "    sum=sum+i\n",
    "    sosq=sosq+i**2\n",
    "print(sum**2)\n",
    "print(sosq)\n",
    "diff=sosq-sum**2\n",
    "print(diff)"
   ]
  },
  {
   "cell_type": "code",
   "execution_count": 28,
   "metadata": {},
   "outputs": [
    {
     "name": "stdout",
     "output_type": "stream",
     "text": [
      "1\n",
      "5\n",
      "65\n",
      "stop\n",
      "no of terms are 4\n"
     ]
    }
   ],
   "source": [
    "#Write a program which repeatedly reads numbers until the user enters \"stop\".\n",
    "#Once \"stop\" is entered, print out the total, count, and average of the numbers. If\n",
    "#the user enters anything other than a number then also stop.\n",
    "count=0\n",
    "a=0\n",
    "sum=0\n",
    "while(a!='stop'):\n",
    "    a=input()\n",
    "    count=count+1\n",
    "print(\"no of terms are\",count)"
   ]
  },
  {
   "cell_type": "code",
   "execution_count": 31,
   "metadata": {},
   "outputs": [
    {
     "name": "stdout",
     "output_type": "stream",
     "text": [
      "enter n17\n",
      "0\n",
      "1\n",
      "2\n",
      "3\n",
      "5\n",
      "7\n",
      "11\n",
      "13\n",
      "17\n"
     ]
    }
   ],
   "source": [
    "#Write a program that prints all prime numbers till n. (n is the user input).\n",
    "n=int(input('enter n'))\n",
    "for i in range (n+1):\n",
    "    count=0\n",
    "    for j in range(2,i+1//2):\n",
    "        if(i%j==0):\n",
    "            count=count+1\n",
    "    if(count==0):\n",
    "        print(i)"
   ]
  },
  {
   "cell_type": "code",
   "execution_count": 32,
   "metadata": {},
   "outputs": [],
   "source": [
    "#Write a program which can compute the factorial of a given number.\n",
    "def fact(n):\n",
    "    if n==0 or n==1:\n",
    "        return 1\n",
    "    return n*fact(n-1)"
   ]
  },
  {
   "cell_type": "code",
   "execution_count": 33,
   "metadata": {},
   "outputs": [
    {
     "data": {
      "text/plain": [
       "120"
      ]
     },
     "execution_count": 33,
     "metadata": {},
     "output_type": "execute_result"
    }
   ],
   "source": [
    "fact(5)"
   ]
  },
  {
   "cell_type": "code",
   "execution_count": 36,
   "metadata": {},
   "outputs": [
    {
     "name": "stdout",
     "output_type": "stream",
     "text": [
      "enter a number 15\n",
      "1\n",
      "2\n",
      "3\n",
      "5\n",
      "8\n",
      "13\n",
      "21\n",
      "34\n",
      "55\n",
      "89\n",
      "144\n",
      "233\n",
      "377\n",
      "610\n",
      "987\n"
     ]
    }
   ],
   "source": [
    "#Write a program for printing fibonacci series till n.\n",
    "n=int(input(\"enter a number \"))\n",
    "a=0\n",
    "b=1\n",
    "for _ in range(n):\n",
    "    a,b=b,a+b\n",
    "    print(b)\n",
    "    \n"
   ]
  },
  {
   "cell_type": "code",
   "execution_count": 48,
   "metadata": {},
   "outputs": [
    {
     "name": "stdout",
     "output_type": "stream",
     "text": [
      "Enter the first number:5\n",
      "Enter the second number:7\n",
      "LCM is: 35\n"
     ]
    }
   ],
   "source": [
    "#Write a program to find the LCM of two numbers.\n",
    "a=int(input(\"Enter the first number:\"))\n",
    "b=int(input(\"Enter the second number:\"))\n",
    "if(a>b):\n",
    "    num=a\n",
    "else:\n",
    "    num=b\n",
    "while(1):\n",
    "    if(num%a==0 and num%b==0):\n",
    "        print(\"LCM is:\",num)\n",
    "        break\n",
    "    num=num+1\n"
   ]
  },
  {
   "cell_type": "code",
   "execution_count": 47,
   "metadata": {},
   "outputs": [
    {
     "name": "stdout",
     "output_type": "stream",
     "text": [
      "enter a number : 15\n",
      "1\n",
      "3\n",
      "5\n",
      "15\n"
     ]
    }
   ],
   "source": [
    "#Write a program to find factors of a number.\n",
    "a=int(input(\"enter a number : \"))\n",
    "for i in range(1,a+1):\n",
    "    if num%i==0:\n",
    "        print(i)\n"
   ]
  },
  {
   "cell_type": "markdown",
   "metadata": {},
   "source": [
    "# Write a program to print the following pattern"
   ]
  },
  {
   "cell_type": "code",
   "execution_count": 39,
   "metadata": {},
   "outputs": [
    {
     "name": "stdout",
     "output_type": "stream",
     "text": [
      "1 \n",
      "2 2 \n",
      "3 3 3 \n",
      "4 4 4 4 \n",
      "5 5 5 5 5 \n"
     ]
    }
   ],
   "source": [
    "n=5\n",
    "for i  in range(1,n+1):\n",
    "    for j in range(i):\n",
    "        print(i,end=\" \")\n",
    "    print()"
   ]
  },
  {
   "cell_type": "code",
   "execution_count": 40,
   "metadata": {},
   "outputs": [
    {
     "name": "stdout",
     "output_type": "stream",
     "text": [
      "\n",
      "*\n",
      "**\n",
      "***\n",
      "****\n"
     ]
    }
   ],
   "source": [
    "n=5\n",
    "for i in range(n):\n",
    "    n=\"*\" *i\n",
    "    print(n)"
   ]
  },
  {
   "cell_type": "code",
   "execution_count": 41,
   "metadata": {},
   "outputs": [
    {
     "name": "stdout",
     "output_type": "stream",
     "text": [
      "   *\n",
      "  **\n",
      " ***\n",
      "****\n"
     ]
    }
   ],
   "source": [
    "n=4\n",
    "for i in range(n):\n",
    "    print(\" \"* (n-i-1)+ \"*\" * (i+1) )"
   ]
  },
  {
   "cell_type": "code",
   "execution_count": 42,
   "metadata": {},
   "outputs": [
    {
     "name": "stdout",
     "output_type": "stream",
     "text": [
      "   *\n",
      "  ***\n",
      " *****\n",
      "*******\n"
     ]
    }
   ],
   "source": [
    "n=4\n",
    "for i in range(n):\n",
    "    print(\" \"* (n-i-1)+ \"*\" * (2*i+1) )"
   ]
  },
  {
   "cell_type": "code",
   "execution_count": 43,
   "metadata": {},
   "outputs": [
    {
     "name": "stdout",
     "output_type": "stream",
     "text": [
      "\n",
      "1 \n",
      "2 3 \n",
      "4 5 6 \n",
      "7 8 9 10 \n"
     ]
    }
   ],
   "source": [
    "n=5\n",
    "a=1\n",
    "for i in range (n):\n",
    "    for j in range(i):\n",
    "        print(a,end=\" \")\n",
    "        a=a+1\n",
    "    print()"
   ]
  },
  {
   "cell_type": "code",
   "execution_count": 44,
   "metadata": {},
   "outputs": [
    {
     "name": "stdout",
     "output_type": "stream",
     "text": [
      "\n",
      "A \n",
      "B C \n",
      "D E F \n",
      "G H I J \n"
     ]
    }
   ],
   "source": [
    "n=5\n",
    "a=65\n",
    "for i in range (n):\n",
    "    for j in range(i):\n",
    "        print(chr(a),end=\" \")\n",
    "        a+=1\n",
    "    print()"
   ]
  },
  {
   "cell_type": "code",
   "execution_count": 46,
   "metadata": {},
   "outputs": [
    {
     "name": "stdout",
     "output_type": "stream",
     "text": [
      "enter n9\n",
      "9 + 99 + 999 + 9999 = 11106\n"
     ]
    }
   ],
   "source": [
    "#Write a program that computes the value of a+aa+aaa+aaaa with a given digit as\n",
    "#the value of a. Suppose the following input is supplied to the program: 9, Then,\n",
    "#the output should be: 9 + 99 + 999 + 9999 = 11106.\n",
    "n=int(input('enter n')) \n",
    "a=int(n*10+n)\n",
    "b=int(n*100+a)\n",
    "c=int(n*1000+b)\n",
    "result=n+a+b+c\n",
    "print(n,\"+\",a,\"+\",b,\"+\",c,\"=\",result)\n"
   ]
  },
  {
   "cell_type": "code",
   "execution_count": null,
   "metadata": {},
   "outputs": [],
   "source": []
  }
 ],
 "metadata": {
  "kernelspec": {
   "display_name": "Python 3",
   "language": "python",
   "name": "python3"
  },
  "language_info": {
   "codemirror_mode": {
    "name": "ipython",
    "version": 3
   },
   "file_extension": ".py",
   "mimetype": "text/x-python",
   "name": "python",
   "nbconvert_exporter": "python",
   "pygments_lexer": "ipython3",
   "version": "3.7.3"
  }
 },
 "nbformat": 4,
 "nbformat_minor": 2
}
